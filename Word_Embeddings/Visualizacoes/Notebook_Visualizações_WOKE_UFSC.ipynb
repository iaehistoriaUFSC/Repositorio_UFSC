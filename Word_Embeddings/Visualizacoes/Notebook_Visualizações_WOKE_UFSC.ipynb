{
  "cells": [
    {
      "cell_type": "markdown",
      "metadata": {
        "id": "8IwqEpFMdYoW"
      },
      "source": [
        "# Notebook para gerar e visualizar imagens referentes aos resultados encontrados nos modelos treinados pelo Grupo de Estudos e Pesquisa em IA e História da UFSC."
      ]
    },
    {
      "cell_type": "markdown",
      "metadata": {
        "id": "hWWZMW1GdhdU"
      },
      "source": [
        "Se você está visualizando este notebook no GitHub, por favor entre no nosso [Notebook no Colab](https://colab.research.google.com/drive/1WQ-BxqWycFUzObUvyDbWo4aT40aB355C?usp=sharing).\n",
        "\n",
        "---\n",
        "\n",
        "Atualmente possuímos apenas modelos treinados com séries temporais.\n",
        "\n",
        "\n",
        "---\n",
        "\n",
        "\n",
        "Para mais informações de como usar este notebook visite: [GitHub - Visualizações WOKE](https://github.com/iaehistoriaUFSC/Repositorio_UFSC/tree/main/Word_Embeddings/Visualizacoes) *(aguardando atualização)*\n",
        "\n",
        "**Ou acesse o vídeo: [Vídeo suporte - notebook visualizações WOKE](https://drive.google.com/file/d/1QPyY0m0DiFfGMJfXSTLuNzgECl3W78KR/view?usp=drive_link)** *e não esqueça de selecionar a qualidade e a velocidade de reprodução*. *(aguardando atualização)*\n",
        "\n",
        "\n",
        "---\n",
        "\n",
        "\n",
        "\n",
        "Para mais detalhes sobre o projeto todo visite nossa página principal do GitHub: [GitHub Repositorio UFSC - WOKE](https://github.com/iaehistoriaUFSC/Repositorio_UFSC)\n",
        "\n",
        "\n",
        "## ❗ **Primeiro, salve uma cópia deste Notebook no seu Drive!** ❗\n",
        "\n",
        "Depois execute a primeira célula de código abaixo \"Configurando este ambiente\" e depois reinicie a sessão. Após realizadas estas ações, execute a segunda leva de células de código \"Exec\", nesta ordem!\n",
        "\n",
        "*Em caso de parar a execução e querer executar novamente, basta executar a última célula se este ambiente ainda estiver conectado.*"
      ]
    },
    {
      "cell_type": "markdown",
      "metadata": {
        "id": "ckFnRN4ASYoR"
      },
      "source": [
        "## Configurando este ambiente *(pode levar alguns minutos)*"
      ]
    },
    {
      "cell_type": "code",
      "execution_count": null,
      "metadata": {
        "id": "Z-4AlO11ocM1"
      },
      "outputs": [],
      "source": [
        "!pip install scikit-learn\n",
        "!pip install seaborn\n",
        "!pip install pandas\n",
        "!pip install matplotlib\n",
        "!pip install gdown\n",
        "!pip install networkx\n",
        "!pip install gensim\n",
        "# !pip install -U spacy\n",
        "!pip install -U spacy-lookups-data\n",
        "!python -m spacy download pt_core_news_lg\n",
        "\n",
        "\n",
        "!git clone https://github.com/iaehistoriaUFSC/Repositorio_UFSC.git"
      ]
    },
    {
      "cell_type": "markdown",
      "metadata": {
        "id": "mU4WhYaISc9p"
      },
      "source": [
        "## Exec"
      ]
    },
    {
      "cell_type": "code",
      "source": [
        "# @markdown <h3>⬅️ Após realizada a configuração do ambiente, no menu superior,<br>⬆️ clique em <b>\"Ambiente de execução\"</b> e depois em <b>\"Reiniciar sessão\"</b> e depois em <b>\"Sim\"</b>.<br>⬆️ Aguarde a reinicialização do ambiente e execute esta célula de código clicando em \"▶️\" à esquerda.</h3>\n",
        "# @markdown <br><h10>Se o código ficar à vista, você pode ocultá-lo dando 2 clicks seguidos em cima do texto que estará ao lado direito.</h10>\n",
        "\n",
        "from google.colab import output\n",
        "\n",
        "%cd /content/Repositorio_UFSC/Word_Embeddings/Visualizacoes\n",
        "try:\n",
        "    from main import main\n",
        "except ModuleNotFoundError:\n",
        "    output.clear()\n",
        "    print('\\n\\nNo menu superior, clique em \"Ambiente de execução\" e depois em \"Reiniciar sessão\" e, por fim, em \"Sim\".\\nAguarde a reinicialização da sessão (pode ser verificado no canto superior direito) e volte a executar esta célula de código!\\n\\n')\n",
        "except Exception as e:\n",
        "    output.clear()\n",
        "    print('\\n\\n\\tParece que ocorreu um erro inesperado :/\\n\\tPor favor, contate um programador do Grupo de Estudos!\\n\\n')\n",
        "else:\n",
        "    output.clear()\n",
        "    print('\\n\\nParece que já está tudo configurado aqui no Colab para rodar o programa do WOKE!\\nExecute a célula abaixo e aproveite :)\\n\\n')"
      ],
      "metadata": {
        "cellView": "form",
        "id": "JWJHF9iOX-rk"
      },
      "execution_count": null,
      "outputs": []
    },
    {
      "cell_type": "code",
      "execution_count": null,
      "metadata": {
        "id": "QrKnP-46xDmy",
        "cellView": "form"
      },
      "outputs": [],
      "source": [
        "# @markdown <h3>⬅️ Clique no botão \"▶️\" à esquerda para executar o <b>WOKE</b>! 🤖</h3>\n",
        "\n",
        "# @markdown <h5>Depois fique atento a tela que aparecerá abaixo.</h5>\n",
        "\n",
        "if __name__ == '__main__':\n",
        "  main()"
      ]
    }
  ],
  "metadata": {
    "colab": {
      "collapsed_sections": [
        "ckFnRN4ASYoR"
      ],
      "provenance": []
    },
    "kernelspec": {
      "display_name": "Python 3",
      "name": "python3"
    },
    "language_info": {
      "name": "python"
    }
  },
  "nbformat": 4,
  "nbformat_minor": 0
}